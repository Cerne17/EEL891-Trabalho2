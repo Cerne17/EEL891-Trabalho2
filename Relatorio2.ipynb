{
 "cells": [
  {
   "cell_type": "markdown",
   "metadata": {},
   "source": [
    "# EEL891 - 2024.2 - Trabalho 2\n",
    "### Regressão Multivariável - Estimar Preços de Imóveis\n",
    "*Aluno:* Miguel Badany Cerne<br>*DRE:* 123370433<br>*Usuário Kaggle:* miguelbadanycerne<br>*ID Kaggle:* 20164449\n",
    "<hr>"
   ]
  }
 ],
 "metadata": {
  "language_info": {
   "name": "python"
  }
 },
 "nbformat": 4,
 "nbformat_minor": 2
}
